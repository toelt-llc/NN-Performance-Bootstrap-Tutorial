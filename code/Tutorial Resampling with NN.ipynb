{
 "cells": [
  {
   "cell_type": "markdown",
   "metadata": {},
   "source": [
    "# Code for Estimating Neural Network's Performance with Bootstrap: a Tutorial\n",
    "\n",
    "**Authors:**\n",
    "\n",
    "Umberto Michelucci, umberto.michelucci@toelt.ai, \n",
    "\n",
    "Francesca Venturini, vent@zhaw.ch\n",
    "\n",
    "This code is the companion of the paper _Estimating Neural Network's Performance with Bootstrap: a Tutorial_ submitted for publication."
   ]
  },
  {
   "cell_type": "code",
   "execution_count": 4,
   "metadata": {
    "executionInfo": {
     "elapsed": 599,
     "status": "ok",
     "timestamp": 1610098599923,
     "user": {
      "displayName": "Umberto Michelucci",
      "photoUrl": "https://lh3.googleusercontent.com/a-/AOh14Ggrkq7MAw6QQDY8sxIXNAo8wGBCTJXUym30fmVK=s64",
      "userId": "10493425851464515093"
     },
     "user_tz": -60
    },
    "id": "sqJJLvMGDmTd"
   },
   "outputs": [],
   "source": [
    "import numpy as np\n",
    "import tensorflow as tf\n",
    "import tensorflow.keras as keras\n",
    "\n",
    "import pandas as pd\n",
    "import matplotlib.pyplot as plt\n",
    "\n",
    "from sklearn.model_selection import train_test_split\n",
    "from matplotlib.lines import Line2D\n",
    "import matplotlib.gridspec as gridspec\n",
    "import matplotlib\n",
    "font = {'size'   : 16}\n",
    "\n",
    "matplotlib.rc('font', **font) \n",
    "\n",
    "import time\n",
    "import pickle"
   ]
  },
  {
   "cell_type": "markdown",
   "metadata": {},
   "source": [
    "## Useful functions"
   ]
  },
  {
   "cell_type": "code",
   "execution_count": 5,
   "metadata": {
    "executionInfo": {
     "elapsed": 3139,
     "status": "ok",
     "timestamp": 1610095266711,
     "user": {
      "displayName": "Umberto Michelucci",
      "photoUrl": "https://lh3.googleusercontent.com/a-/AOh14Ggrkq7MAw6QQDY8sxIXNAo8wGBCTJXUym30fmVK=s64",
      "userId": "10493425851464515093"
     },
     "user_tz": -60
    },
    "id": "hfCdmzlXvc9m"
   },
   "outputs": [],
   "source": [
    "def dump_list(list, name):\n",
    "  with open(name+'.pkl', 'wb') as fp:\n",
    "    pickle.dump(list, fp)"
   ]
  },
  {
   "cell_type": "code",
   "execution_count": 6,
   "metadata": {
    "executionInfo": {
     "elapsed": 3137,
     "status": "ok",
     "timestamp": 1610095266711,
     "user": {
      "displayName": "Umberto Michelucci",
      "photoUrl": "https://lh3.googleusercontent.com/a-/AOh14Ggrkq7MAw6QQDY8sxIXNAo8wGBCTJXUym30fmVK=s64",
      "userId": "10493425851464515093"
     },
     "user_tz": -60
    },
    "id": "tI9KPwSEa7Qj"
   },
   "outputs": [],
   "source": [
    "def gaussian(x, mu, sigma):\n",
    "  tmp = 1.0/sigma/np.sqrt(2/np.pi)*np.exp(-(x-mu)**2/2.0/sigma**2)\n",
    "\n",
    "  return tmp"
   ]
  },
  {
   "cell_type": "markdown",
   "metadata": {
    "id": "94Q49wKGDwFr"
   },
   "source": [
    "# Data Generation"
   ]
  },
  {
   "cell_type": "markdown",
   "metadata": {},
   "source": [
    "The data has been generated as described in the paper in **Algorithm 7.1**."
   ]
  },
  {
   "cell_type": "code",
   "execution_count": 7,
   "metadata": {
    "id": "kJRS5XnHD4EP"
   },
   "outputs": [],
   "source": [
    "def f(x):\n",
    "  return 2+3*x+4*x**2"
   ]
  },
  {
   "cell_type": "code",
   "execution_count": 9,
   "metadata": {
    "colab": {
     "base_uri": "https://localhost:8080/",
     "height": 265
    },
    "executionInfo": {
     "elapsed": 1970,
     "status": "ok",
     "timestamp": 1609230172652,
     "user": {
      "displayName": "Umberto Michelucci",
      "photoUrl": "https://lh3.googleusercontent.com/a-/AOh14Ggrkq7MAw6QQDY8sxIXNAo8wGBCTJXUym30fmVK=s64",
      "userId": "10493425851464515093"
     },
     "user_tz": -60
    },
    "id": "P2Zo_DazD8gN",
    "outputId": "b7f10638-4707-44b0-c25a-d2fa6bc167c6"
   },
   "outputs": [],
   "source": [
    "x = np.arange(-5,5,0.02)\n",
    "y = f(x) / 50"
   ]
  },
  {
   "cell_type": "markdown",
   "metadata": {
    "id": "b1SOCWNnEAb4"
   },
   "source": [
    "Now random uniform noise will be added."
   ]
  },
  {
   "cell_type": "code",
   "execution_count": 10,
   "metadata": {
    "id": "xkIjUuIlEClW"
   },
   "outputs": [],
   "source": [
    "eps = np.random.rand(len(x))"
   ]
  },
  {
   "cell_type": "code",
   "execution_count": 11,
   "metadata": {
    "id": "wHCM5J0PENbK"
   },
   "outputs": [],
   "source": [
    "y_ = y + (eps-0.5)"
   ]
  },
  {
   "cell_type": "markdown",
   "metadata": {},
   "source": [
    "We can plot the data to have an idea about how the input points look like."
   ]
  },
  {
   "cell_type": "code",
   "execution_count": 12,
   "metadata": {
    "colab": {
     "base_uri": "https://localhost:8080/",
     "height": 265
    },
    "executionInfo": {
     "elapsed": 1140,
     "status": "ok",
     "timestamp": 1609160425116,
     "user": {
      "displayName": "Umberto Michelucci",
      "photoUrl": "https://lh3.googleusercontent.com/a-/AOh14Ggrkq7MAw6QQDY8sxIXNAo8wGBCTJXUym30fmVK=s64",
      "userId": "10493425851464515093"
     },
     "user_tz": -60
    },
    "id": "gPhr2ky8EPpP",
    "outputId": "dff14100-a8ac-44b2-d838-62e0c81ae791"
   },
   "outputs": [
    {
     "data": {
      "image/png": "[encoded data removed]",
      "text/plain": [
       "<Figure size 432x288 with 1 Axes>"
      ]
     },
     "metadata": {
      "needs_background": "light"
     },
     "output_type": "display_data"
    }
   ],
   "source": [
    "plt.scatter(x,y_)\n",
    "plt.plot(x,y,color = 'orange', lw = 3)\n",
    "plt.show()"
   ]
  },
  {
   "cell_type": "markdown",
   "metadata": {},
   "source": [
    "Now we split the dataset in two parts: $S_T$ and $S_V$."
   ]
  },
  {
   "cell_type": "code",
   "execution_count": 13,
   "metadata": {
    "id": "THFcFnW9GxDF"
   },
   "outputs": [],
   "source": [
    "x_train,x_test,y_train,y_test=train_test_split(x,y_,test_size=0.2,random_state=123)"
   ]
  },
  {
   "cell_type": "markdown",
   "metadata": {
    "id": "7rQoimamG8kj"
   },
   "source": [
    "# A simple network to solve the problem\n",
    "\n",
    "We can create a simple network as the one described in the paper, to see how it can solve the problem of extracting the underlying polynomial from the noise"
   ]
  },
  {
   "cell_type": "code",
   "execution_count": 14,
   "metadata": {
    "id": "56D0t64AEtKm"
   },
   "outputs": [],
   "source": [
    "model = tf.keras.models.Sequential([\n",
    "  tf.keras.layers.Dense(4, activation='sigmoid'),\n",
    "  tf.keras.layers.Dense(4, activation='sigmoid'),\n",
    "  tf.keras.layers.Dense(1)\n",
    "])\n",
    "\n",
    "model.compile(optimizer='adam',\n",
    "              loss='mse',\n",
    "              metrics=['mse'])"
   ]
  },
  {
   "cell_type": "code",
   "execution_count": 15,
   "metadata": {
    "colab": {
     "base_uri": "https://localhost:8080/"
    },
    "executionInfo": {
     "elapsed": 15271,
     "status": "ok",
     "timestamp": 1609010301060,
     "user": {
      "displayName": "Umberto Michelucci",
      "photoUrl": "https://lh3.googleusercontent.com/a-/AOh14Ggrkq7MAw6QQDY8sxIXNAo8wGBCTJXUym30fmVK=s64",
      "userId": "10493425851464515093"
     },
     "user_tz": -60
    },
    "id": "M1vqPGHHFHSe",
    "outputId": "8da8eaa3-6607-404c-82f9-2774ea210c20"
   },
   "outputs": [
    {
     "data": {
      "text/plain": [
       "<tensorflow.python.keras.callbacks.History at 0x7f9f43964da0>"
      ]
     },
     "execution_count": 15,
     "metadata": {},
     "output_type": "execute_result"
    }
   ],
   "source": [
    "model.fit(x_train,y_train, epochs=300, batch_size = 24, verbose = 0)"
   ]
  },
  {
   "cell_type": "code",
   "execution_count": 16,
   "metadata": {
    "id": "bdqN2tGNFR0v"
   },
   "outputs": [],
   "source": [
    "tildey = model.predict(x)"
   ]
  },
  {
   "cell_type": "markdown",
   "metadata": {},
   "source": [
    "The plot below show how good the network is in solving the problem. The small difference at the edges is a known phenomena. The network performs less well, since it has less data after the edges to correct its result."
   ]
  },
  {
   "cell_type": "code",
   "execution_count": 17,
   "metadata": {
    "colab": {
     "base_uri": "https://localhost:8080/",
     "height": 265
    },
    "executionInfo": {
     "elapsed": 14517,
     "status": "ok",
     "timestamp": 1609010301061,
     "user": {
      "displayName": "Umberto Michelucci",
      "photoUrl": "https://lh3.googleusercontent.com/a-/AOh14Ggrkq7MAw6QQDY8sxIXNAo8wGBCTJXUym30fmVK=s64",
      "userId": "10493425851464515093"
     },
     "user_tz": -60
    },
    "id": "FGCyX9DOFb7k",
    "outputId": "110790f2-0671-41a6-c4ca-2fcfe151f6b3"
   },
   "outputs": [
    {
     "data": {
      "image/png": "[encoded data removed]",
      "text/plain": [
       "<Figure size 432x288 with 1 Axes>"
      ]
     },
     "metadata": {
      "needs_background": "light"
     },
     "output_type": "display_data"
    }
   ],
   "source": [
    "plt.scatter(x,y_)\n",
    "plt.plot(x,y,color = 'orange', lw = 3)\n",
    "plt.plot(x,tildey,color = 'red', lw = 3)\n",
    "plt.show()"
   ]
  },
  {
   "cell_type": "markdown",
   "metadata": {},
   "source": [
    "We can then evaluate the MSE we have using the NNM applied to the test dataset ```x_test```."
   ]
  },
  {
   "cell_type": "code",
   "execution_count": 18,
   "metadata": {
    "colab": {
     "base_uri": "https://localhost:8080/"
    },
    "executionInfo": {
     "elapsed": 844,
     "status": "ok",
     "timestamp": 1609010301920,
     "user": {
      "displayName": "Umberto Michelucci",
      "photoUrl": "https://lh3.googleusercontent.com/a-/AOh14Ggrkq7MAw6QQDY8sxIXNAo8wGBCTJXUym30fmVK=s64",
      "userId": "10493425851464515093"
     },
     "user_tz": -60
    },
    "id": "XRLQlukXFgdP",
    "outputId": "62da7c68-653d-4336-df14-03c639b83fc7"
   },
   "outputs": [
    {
     "name": "stdout",
     "output_type": "stream",
     "text": [
      "4/4 [==============================] - 0s 949us/step - loss: 0.0815 - mse: 0.0815\n"
     ]
    },
    {
     "data": {
      "text/plain": [
       "0.08146438747644424"
      ]
     },
     "execution_count": 18,
     "metadata": {},
     "output_type": "execute_result"
    }
   ],
   "source": [
    "model.evaluate(x_test,y_test)[1]"
   ]
  },
  {
   "cell_type": "markdown",
   "metadata": {
    "id": "8F5ylCPbGbWH"
   },
   "source": [
    "# Split/Train Algorithm (Algorithm 6.1)\n",
    " \n",
    "The following code is a very basic implementation of the Split/Train algorithm (**Algorithm 6.1** in the paper)."
   ]
  },
  {
   "cell_type": "code",
   "execution_count": 25,
   "metadata": {
    "colab": {
     "base_uri": "https://localhost:8080/",
     "height": 392
    },
    "executionInfo": {
     "elapsed": 8847,
     "status": "error",
     "timestamp": 1609160464450,
     "user": {
      "displayName": "Umberto Michelucci",
      "photoUrl": "https://lh3.googleusercontent.com/a-/AOh14Ggrkq7MAw6QQDY8sxIXNAo8wGBCTJXUym30fmVK=s64",
      "userId": "10493425851464515093"
     },
     "user_tz": -60
    },
    "id": "rOpiIAsmHL9X",
    "outputId": "81e9424a-2b88-41cb-fdae-828092fe08d9"
   },
   "outputs": [
    {
     "name": "stdout",
     "output_type": "stream",
     "text": [
      "Iteration 0\n",
      "Iteration 5\n",
      "Iteration 10\n",
      "Iteration 15\n",
      "Iteration 20\n",
      "Iteration 25\n",
      "Iteration 30\n",
      "Iteration 35\n",
      "Iteration 40\n",
      "Iteration 45\n"
     ]
    }
   ],
   "source": [
    "val_mse = []\n",
    "#\n",
    "# This code runs for only 50 splits. If you want to try for more iterations change this number.\n",
    "# CAREFUL: it will take some time!\n",
    "#\n",
    "for i in range(0,50):\n",
    "\n",
    "  if (i % 5 == 0):\n",
    "    print(\"Iteration\",i)\n",
    "\n",
    "  x_train,x_test,y_train,y_test=train_test_split(x,y_,test_size=0.2,random_state=i)\n",
    "\n",
    "  model = tf.keras.models.Sequential([\n",
    "  tf.keras.layers.Dense(4, activation='sigmoid'),\n",
    "  tf.keras.layers.Dense(4, activation='sigmoid'),\n",
    "  tf.keras.layers.Dense(1)\n",
    "  ])\n",
    "\n",
    "  model.compile(optimizer='adam',\n",
    "              loss='mse',\n",
    "              metrics=['mse'])\n",
    "  \n",
    "  model.fit(x_train,y_train, epochs=300, batch_size = 16, verbose = 0)\n",
    "\n",
    "  val_mse.append(model.evaluate(x_test,y_test, verbose = 0)[1])"
   ]
  },
  {
   "cell_type": "markdown",
   "metadata": {},
   "source": [
    "As discussed in the paper some models will not learn well. Check for example in the output above the second model. It reaches a value of 0.22 for the MSE, that is much higher than 0.08 that we observed in our small test at the beginning. As mentioned in the paper we must be careful and exclude models that have clearly not converged well.\n",
    "\n",
    "We do that in the following line, by eliminating models that have learned not well."
   ]
  },
  {
   "cell_type": "code",
   "execution_count": 26,
   "metadata": {
    "id": "rMCjGfW3VK3N"
   },
   "outputs": [],
   "source": [
    "val_mse_red = np.array(val_mse)[np.array(val_mse) < 0.15]   "
   ]
  },
  {
   "cell_type": "code",
   "execution_count": 27,
   "metadata": {
    "colab": {
     "base_uri": "https://localhost:8080/"
    },
    "executionInfo": {
     "elapsed": 547,
     "status": "ok",
     "timestamp": 1609148388548,
     "user": {
      "displayName": "Umberto Michelucci",
      "photoUrl": "https://lh3.googleusercontent.com/a-/AOh14Ggrkq7MAw6QQDY8sxIXNAo8wGBCTJXUym30fmVK=s64",
      "userId": "10493425851464515093"
     },
     "user_tz": -60
    },
    "id": "jix6tsB_TGOQ",
    "outputId": "4c3f39c3-df79-4711-e9e6-ccc70ca021cf"
   },
   "outputs": [
    {
     "name": "stdout",
     "output_type": "stream",
     "text": [
      "0.08961265296378035\n",
      "0.01124553732237231\n"
     ]
    }
   ],
   "source": [
    "print(np.mean(val_mse_red))\n",
    "print(np.std(val_mse_red))"
   ]
  },
  {
   "cell_type": "markdown",
   "metadata": {},
   "source": [
    "Note that this plot does not look like a Gaussian (like the plots in the paper) since the number of splits is way too low. To obtain a Gaussian shape you should go over 2000 splits, but that will require quite some time."
   ]
  },
  {
   "cell_type": "code",
   "execution_count": 29,
   "metadata": {
    "colab": {
     "base_uri": "https://localhost:8080/",
     "height": 268
    },
    "executionInfo": {
     "elapsed": 718,
     "status": "ok",
     "timestamp": 1609153835691,
     "user": {
      "displayName": "Umberto Michelucci",
      "photoUrl": "https://lh3.googleusercontent.com/a-/AOh14Ggrkq7MAw6QQDY8sxIXNAo8wGBCTJXUym30fmVK=s64",
      "userId": "10493425851464515093"
     },
     "user_tz": -60
    },
    "id": "a0ENipPeHl6s",
    "outputId": "01fcc4e3-bc0d-48f2-9c1a-5311e5c76d3e"
   },
   "outputs": [
    {
     "data": {
      "image/png": "[encoded data removed]",
      "text/plain": [
       "<Figure size 432x288 with 1 Axes>"
      ]
     },
     "metadata": {
      "needs_background": "light"
     },
     "output_type": "display_data"
    }
   ],
   "source": [
    "plt.hist(val_mse_red, bins = 20)\n",
    "plt.show()"
   ]
  },
  {
   "cell_type": "markdown",
   "metadata": {
    "id": "1-fqCtKLkNsw"
   },
   "source": [
    "# Bootstrap Algorithm (Algorithm 6.2)"
   ]
  },
  {
   "cell_type": "markdown",
   "metadata": {},
   "source": [
    "For Algorithm 6.2 we first train a network once on $S_T$. Then we will apply bootstrap to $S_V$."
   ]
  },
  {
   "cell_type": "code",
   "execution_count": 30,
   "metadata": {
    "colab": {
     "base_uri": "https://localhost:8080/"
    },
    "executionInfo": {
     "elapsed": 8860,
     "status": "ok",
     "timestamp": 1609230513524,
     "user": {
      "displayName": "Umberto Michelucci",
      "photoUrl": "https://lh3.googleusercontent.com/a-/AOh14Ggrkq7MAw6QQDY8sxIXNAo8wGBCTJXUym30fmVK=s64",
      "userId": "10493425851464515093"
     },
     "user_tz": -60
    },
    "id": "GwYCk5K5mdYm",
    "outputId": "9fbf3905-ff73-45bd-9c64-cb0b2cd981e5"
   },
   "outputs": [
    {
     "name": "stdout",
     "output_type": "stream",
     "text": [
      "4/4 [==============================] - 0s 1ms/step - loss: 0.0796 - mse: 0.0796\n",
      "0.050821069876352945 min elapsed.\n"
     ]
    }
   ],
   "source": [
    "start = time.time()\n",
    "\n",
    "x_train,x_test,y_train,y_test=train_test_split(x,y_,test_size=0.2,random_state=30)\n",
    "\n",
    "model = tf.keras.models.Sequential([\n",
    "  tf.keras.layers.Dense(4, activation='sigmoid'),\n",
    "  tf.keras.layers.Dense(4, activation='sigmoid'),\n",
    "  tf.keras.layers.Dense(1)\n",
    "  ])\n",
    "\n",
    "model.compile(optimizer='adam',\n",
    "              loss='mse',\n",
    "              metrics=['mse'])\n",
    "  \n",
    "model.fit(x_train,y_train, epochs=300, batch_size = 16, verbose = 0)\n",
    "\n",
    "model.evaluate(x_test,y_test)[1]\n",
    "\n",
    "end = time.time()\n",
    "print((end - start)/60.0, \"min elapsed.\")"
   ]
  },
  {
   "cell_type": "code",
   "execution_count": 31,
   "metadata": {
    "colab": {
     "base_uri": "https://localhost:8080/"
    },
    "executionInfo": {
     "elapsed": 219734,
     "status": "ok",
     "timestamp": 1609231381983,
     "user": {
      "displayName": "Umberto Michelucci",
      "photoUrl": "https://lh3.googleusercontent.com/a-/AOh14Ggrkq7MAw6QQDY8sxIXNAo8wGBCTJXUym30fmVK=s64",
      "userId": "10493425851464515093"
     },
     "user_tz": -60
    },
    "id": "ELOyS9SRk3hq",
    "outputId": "1ffae2dd-2c19-4e24-b632-2e6b7b3fed88"
   },
   "outputs": [
    {
     "name": "stdout",
     "output_type": "stream",
     "text": [
      "Iteration 0\n",
      "Iteration 200\n",
      "Iteration 400\n",
      "Iteration 600\n",
      "Iteration 800\n",
      "Iteration 1000\n",
      "Iteration 1200\n",
      "Iteration 1400\n",
      "Iteration 1600\n",
      "Iteration 1800\n",
      "0.9627699176470439 min elapsed.\n"
     ]
    }
   ],
   "source": [
    "start = time.time()\n",
    "N = 2000\n",
    "bootstrap_mse = []\n",
    "for i in range(N): # 100 Bootstrap samples\n",
    "    if (i % 200 == 0):\n",
    "        print(\"Iteration\", i)\n",
    "    idx = np.random.choice(np.arange(len(x_test)), len(x_test), replace=True)\n",
    "    x_sample = x_test[idx]\n",
    "    y_sample = y_test[idx]\n",
    "    bootstrap_mse.append(model.evaluate(x_sample, y_sample, verbose = 0)[1])\n",
    "\n",
    "\n",
    "\n",
    "end = time.time()\n",
    "print((end - start)/60.0, \"min elapsed.\")"
   ]
  },
  {
   "cell_type": "code",
   "execution_count": 32,
   "metadata": {
    "colab": {
     "base_uri": "https://localhost:8080/"
    },
    "executionInfo": {
     "elapsed": 609,
     "status": "ok",
     "timestamp": 1609231382618,
     "user": {
      "displayName": "Umberto Michelucci",
      "photoUrl": "https://lh3.googleusercontent.com/a-/AOh14Ggrkq7MAw6QQDY8sxIXNAo8wGBCTJXUym30fmVK=s64",
      "userId": "10493425851464515093"
     },
     "user_tz": -60
    },
    "id": "6SNv_v1mDNN-",
    "outputId": "d4659428-4889-49b1-dc05-a1dbe0f309e1"
   },
   "outputs": [
    {
     "name": "stdout",
     "output_type": "stream",
     "text": [
      "0.07993609647080302\n",
      "0.007824262349777742\n"
     ]
    }
   ],
   "source": [
    "print(np.mean(bootstrap_mse))\n",
    "print(np.std(bootstrap_mse))"
   ]
  },
  {
   "cell_type": "code",
   "execution_count": 33,
   "metadata": {},
   "outputs": [
    {
     "data": {
      "image/png": "[encoded data removed]",
      "text/plain": [
       "<Figure size 432x288 with 1 Axes>"
      ]
     },
     "metadata": {
      "needs_background": "light"
     },
     "output_type": "display_data"
    }
   ],
   "source": [
    "fig = plt.figure(figsize = (10,6))\n",
    "hist = plt.hist((np.array(bootstrap_mse)), bins = 80, histtype = 'step', lw = 2, label = r\"Validation MSE\", color = 'black', density = True)"
   ]
  },
  {
   "cell_type": "markdown",
   "metadata": {},
   "source": [
    "# Conclusions\n",
    "\n",
    "You can see how the bootstrap is much faster and allow to perform a much higher number of simulations than the Split/Train Algorithm."
   ]
  },
  {
   "cell_type": "markdown",
   "metadata": {},
   "source": [
    "# References\n",
    "\n",
    "In case you use this code and you want to reference it you can use the following\n",
    "\n",
    "**Plain Text**: \n",
    "    \n",
    "    Michelucci, U. Code for Estimating Neural Network’s Performance with Bootstrap: \n",
    "    a Tutorial, https://github.com/toelt-llc/NN-Performance-Bootstrap-Tutorial, 2021\n",
    "\n",
    "**bibtex**:\n",
    "\n",
    "    @misc{code,\n",
    "      author = {Michelucci, U.},\n",
    "      title = {Code for {\\sl Estimating Neural Network's Performance with Bootstrap: a Tutorial}},\n",
    "      year = {2021},\n",
    "      publisher = {GitHub},\n",
    "      journal = {GitHub repository},\n",
    "      howpublished = {\\url{https://github.com/toelt-llc/NN-Performance-Bootstrap-Tutorial}\n",
    "    }}"
   ]
  }
 ],
 "metadata": {
  "accelerator": "GPU",
  "colab": {
   "authorship_tag": "ABX9TyOd7ilY9dVxUSANxi4iQB3D",
   "collapsed_sections": [],
   "name": "Tutorial Resampling with NN.ipynb",
   "provenance": [],
   "toc_visible": true
  },
  "kernelspec": {
   "display_name": "Python 3",
   "language": "python",
   "name": "python3"
  },
  "language_info": {
   "codemirror_mode": {
    "name": "ipython",
    "version": 3
   },
   "file_extension": ".py",
   "mimetype": "text/x-python",
   "name": "python",
   "nbconvert_exporter": "python",
   "pygments_lexer": "ipython3",
   "version": "3.7.2"
  }
 },
 "nbformat": 4,
 "nbformat_minor": 4
}
